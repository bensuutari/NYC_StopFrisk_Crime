{
 "cells": [
  {
   "cell_type": "markdown",
   "metadata": {},
   "source": [
    "# To do:"
   ]
  },
  {
   "cell_type": "markdown",
   "metadata": {},
   "source": [
    " Determine medication outcome relationships with age, disease type and additional patient information.  More thoroughly dissect the relationship between drug adverse event outcomes, cost and type of disease (patients with rarer/deadlier diseases may turn to riskier treatments)."
   ]
  },
  {
   "cell_type": "markdown",
   "metadata": {},
   "source": [
    "# Medicare Spending and Outcomes"
   ]
  },
  {
   "cell_type": "markdown",
   "metadata": {},
   "source": [
    "Millions of people rely on Medicare to provide funding for life-saving healthcare procedures and medications.  The United States currently spends much more on healthcare than any other country in the world, and yet our healthcare outcomes are not the best in the world.  In this project, I attempt a modest step toward optimizing outcomes and spending, focusing on the drugs we spend our Medicare dollars on.  I'm going to look at reported adverse effects of medications paid for by Medicare, how much they cost and how we might reduce our reliance on some medications that are costly and lead to the most severe outcomes (death). "
   ]
  },
  {
   "cell_type": "code",
   "execution_count": 1,
   "metadata": {},
   "outputs": [],
   "source": [
    "import requests\n",
    "import pandas as pd\n",
    "import io\n",
    "import time\n",
    "import API_info#file to keep your API key\n",
    "import matplotlib.pyplot as plt\n",
    "import seaborn as sns\n",
    "import numpy as np\n",
    "import os\n",
    "%matplotlib inline"
   ]
  },
  {
   "cell_type": "markdown",
   "metadata": {},
   "source": [
    "Enigma Public (public.enigma.com) provides open datasets from a diverse array of sources.  I'm going to focus on their Adverse Events datasets (data on adverse medication effects reported in 2015 and 2016) and their Medicare Drug Spending dataset (data on dollars spent by Medicare on medications from 2010-2015).  The idea here is that I can see how much we spent on drugs in 2010-2015 that were later revealed to have adverse effects in 2015/2016, and start to get an idea of how we might shift spending away from drugs with the most severe adverse effects to ones that are similarly effective, but with less severe consequences."
   ]
  },
  {
   "cell_type": "markdown",
   "metadata": {},
   "source": [
    "# Some things we need to access the Enigma API"
   ]
  },
  {
   "cell_type": "code",
   "execution_count": 2,
   "metadata": {},
   "outputs": [],
   "source": [
    "headers = {'authorization': 'Bearer '+API_info.API_key}\n",
    "base_url = \"https://public.enigma.com/api/\""
   ]
  },
  {
   "cell_type": "markdown",
   "metadata": {},
   "source": [
    "# Define a function to get data from the Enigma API"
   ]
  },
  {
   "cell_type": "code",
   "execution_count": 3,
   "metadata": {},
   "outputs": [],
   "source": [
    "def getEnigmaData(dataid):\n",
    "    #Get the dataset current snapshot\n",
    "    url = base_url + 'datasets/{}'.format(dataid)\n",
    "    response = requests.get(url, headers=headers)\n",
    "    json = response.json()\n",
    "    snapshot_id = json['current_snapshot']['id']#get most recent snapshot of dataset\n",
    "\n",
    "    #Get the dataset\n",
    "    url = base_url + 'export/{}'.format(snapshot_id)\n",
    "    print('Reading data from Enigma API to pandas...')\n",
    "    startread=time.time()\n",
    "    response = requests.get(url, headers=headers).content\n",
    "    print('Read took '+str(time.time()-startread)+' seconds.')\n",
    "    return pd.read_csv(io.StringIO(response.decode('utf-8')))\n",
    "\n",
    "def readEnigmaCSV(path,colids=None):\n",
    "    if colids:#if specify columns to be read\n",
    "        return pd.read_csv(path,usecols=colids)\n",
    "    else:#else just return all of the columns\n",
    "        return pd.read_csv(path)\n",
    "    "
   ]
  },
  {
   "cell_type": "markdown",
   "metadata": {},
   "source": [
    "# Load the data"
   ]
  },
  {
   "cell_type": "code",
   "execution_count": 4,
   "metadata": {},
   "outputs": [
    {
     "name": "stdout",
     "output_type": "stream",
     "text": [
      "Loading CSVs...\n",
      "CSV load took 40.071879863739014 seconds\n",
      "Found 5897 duplicates.\n",
      "Index(['primaryid', 'caseid', 'drug_seq', 'role_cod', 'drugname', 'indi_pt',\n",
      "       'age', 'sex', 'wt', 'pt', 'outc_cod_definition'],\n",
      "      dtype='object')\n",
      "Index(['year', 'brand_name', 'generic_name', 'coverage_type', 'total_spending',\n",
      "       'beneficiary_count', 'unit_count', 'beneficiary_cost_share',\n",
      "       'total_annual_spending_per_user', 'average_cost_per_unit',\n",
      "       'average_annual_beneficiary_cost_share', 'claim_count',\n",
      "       'beneficiary_count_lis', 'beneficiary_count_no_lis',\n",
      "       'beneficiary_cost_share_lis', 'beneficiary_cost_share_no_lis',\n",
      "       'average_beneficiary_cost_share_lis',\n",
      "       'average_beneficiary_cost_share_no_lis'],\n",
      "      dtype='object')\n"
     ]
    }
   ],
   "source": [
    "##########Access Enigma Public Through Pandas#############\n",
    "##########Some dataset ids of interest####################\n",
    "#dataset_id = 'fa7ab996-fb43-4e86-80e7-f8e82ccba15f'\n",
    "#dataset_id = 'a4fecc00-1442-4b3c-b6d5-5866feb95f8b'#Medicare drug spending 2010-2015\n",
    "#dataset_id = '7f824984-adcb-4fb9-a481-00ecd3d9f0cb'#Health Interview Survey 2012\n",
    "#dataset_id = 'cd65e860-1269-4ab7-9b37-788110f81f27' Adverse Events 2015\n",
    "#dataset_id_advevents = 'd6bad17f-ee0b-4f3d-9fa0-bb85cd7e68c0'#Curated FDA adverse events 2016\n",
    "##########Some dataset ids of interest####################\n",
    "useAPI=False#Toggle to either get directly from API or use pre-downloaded datasets\n",
    "if useAPI:#Get data directly through Enigma API\n",
    "    dataset_id_advevents = 'cd65e860-1269-4ab7-9b37-788110f81f27'#Curated FDA adverse events 2015\n",
    "    dfAdvEvents = getEnigmaData(dataset_id_advevents)\n",
    "    #dataset_id_advevents2015='cd65e860-1269-4ab7-9b37-788110f81f27'\n",
    "    #dfAdvEvents2015 = getEnigmaData(dataset_id_advevents2015)\n",
    "    dataset_id_medspend = 'a4fecc00-1442-4b3c-b6d5-5866feb95f8b'#Medicare drug spending 2010-2015\n",
    "    dfMedSpend = getEnigmaData(dataset_id_medspend)\n",
    "else:#Load data from pre-downloaded CSV (did this when I realized I exceeded Enigma's 80 API export calls/month)\n",
    "    advEventsCols=['primaryid', 'caseid', 'drug_seq', 'role_cod', 'drugname','indi_pt','pt','age','sex','wt',\n",
    "                   'outc_cod_definition']\n",
    "    print('Loading CSVs...')\n",
    "    startload=time.time()\n",
    "    advEventsPath2016=os.getcwd()+'/data/13c21ff0-adf7-470b-b7f9-a0af8c913c66_CuratedFDAAdverseEvents-2016.csv'\n",
    "    dfAdvEvents2016=readEnigmaCSV(advEventsPath2016,colids=advEventsCols)#,colids=advEventsCols\n",
    "    advEventsPath2015=os.getcwd()+'/data/0441e88c-bbe6-41e3-9156-c95f6dcca95c_CuratedFDAAdverseEvents-2015.csv'\n",
    "    dfAdvEvents2015=readEnigmaCSV(advEventsPath2015,colids=advEventsCols)#,colids=advEventsCols\n",
    "    medspendpath=os.getcwd()+'/data/23165ea4-6da5-4119-be25-bcf2d09fbee5_MedicareDrugSpending-2010-2015.csv'\n",
    "    dfMedSpend=readEnigmaCSV(medspendpath,colids=None)\n",
    "    print('CSV load took '+str(time.time()-startload)+' seconds')\n",
    "    frames=[dfAdvEvents2015,dfAdvEvents2016]\n",
    "    dfAdvEvents=pd.concat(frames,ignore_index=True)\n",
    "    sizeBeforeDropDups=dfAdvEvents.shape[0]\n",
    "    dfAdvEvents.drop_duplicates(inplace=True)#Let's get rid of duplcates that may have occurred in 2015-2016\n",
    "    print('Found '+str(sizeBeforeDropDups-dfAdvEvents.shape[0])+' duplicates.')\n",
    "print(dfAdvEvents.keys())\n",
    "print(dfMedSpend.keys())"
   ]
  },
  {
   "cell_type": "markdown",
   "metadata": {},
   "source": [
    "# Let's get an idea how medicare spending has trended in the last few years"
   ]
  },
  {
   "cell_type": "code",
   "execution_count": 5,
   "metadata": {},
   "outputs": [
    {
     "name": "stdout",
     "output_type": "stream",
     "text": [
      "Index(['year', 'brand_name', 'generic_name', 'coverage_type', 'total_spending',\n",
      "       'beneficiary_count', 'unit_count', 'beneficiary_cost_share',\n",
      "       'total_annual_spending_per_user', 'average_cost_per_unit',\n",
      "       'average_annual_beneficiary_cost_share', 'claim_count',\n",
      "       'beneficiary_count_lis', 'beneficiary_count_no_lis',\n",
      "       'beneficiary_cost_share_lis', 'beneficiary_cost_share_no_lis',\n",
      "       'average_beneficiary_cost_share_lis',\n",
      "       'average_beneficiary_cost_share_no_lis'],\n",
      "      dtype='object')\n"
     ]
    },
    {
     "data": {
      "image/png": "[encoded data removed]",
      "text/plain": [
       "<matplotlib.figure.Figure at 0x7f02b0df3438>"
      ]
     },
     "metadata": {},
     "output_type": "display_data"
    },
    {
     "data": {
      "image/png": "[encoded data removed]",
      "text/plain": [
       "<matplotlib.figure.Figure at 0x7f026d75ca90>"
      ]
     },
     "metadata": {},
     "output_type": "display_data"
    },
    {
     "data": {
      "image/png": "[encoded data removed]",
      "text/plain": [
       "<matplotlib.figure.Figure at 0x7f026d73cfd0>"
      ]
     },
     "metadata": {},
     "output_type": "display_data"
    }
   ],
   "source": [
    "print(dfMedSpend.keys())\n",
    "medspendyeartotal=dfMedSpend.groupby('year').sum()\n",
    "medspendyearavg=dfMedSpend.groupby('year').mean()\n",
    "plt.figure(figsize=(7,7))\n",
    "plt.plot(medspendyeartotal['total_spending'])\n",
    "plt.title('Total Spending on All Drugs')\n",
    "plt.xlabel('Year')\n",
    "plt.ylabel('$')\n",
    "plt.show()\n",
    "\n",
    "plt.figure(figsize=(7,7))\n",
    "plt.plot(medspendyearavg['total_spending'])\n",
    "plt.title('Avg Spending on Drugs')\n",
    "plt.xlabel('Year')\n",
    "plt.ylabel('$')\n",
    "plt.show()\n",
    "\n",
    "#let's plot each of these as % change from 2010 to see how the shapes of the curves differ\n",
    "plt.figure(figsize=(7,7))\n",
    "plt.plot(100*(medspendyeartotal['total_spending']/medspendyeartotal['total_spending'][2010])-100,label='Total')\n",
    "plt.title('Total Spending on All Drugs')\n",
    "plt.xlabel('Year')\n",
    "plt.ylabel('$')\n",
    "plt.plot(100*(medspendyearavg['total_spending']/medspendyearavg['total_spending'][2010])-100,label='Average')\n",
    "plt.title('Avg Spending on Drugs')\n",
    "plt.xlabel('Year')\n",
    "plt.ylabel('% change from 2010')\n",
    "plt.legend()\n",
    "plt.show()"
   ]
  },
  {
   "cell_type": "markdown",
   "metadata": {},
   "source": [
    "Medicare spending has undergone a dramatic increase in total dollars spent as well as the average spent per drug between 2010-2015.  Some speculation: total dollars increases faster than average dollars because more beneficiaries (tail-end baby boomers perhaps) entered the system.  Some more speculation: the slight dip in average dollars in 2011 could be a continuing effect of Obamacare regulations, with a subsequent increase in the years following when pharmaceutical companies responded to the regulations.  Only speculation though."
   ]
  },
  {
   "cell_type": "markdown",
   "metadata": {},
   "source": [
    "# How does Medicare spending on drugs that were found to have adverse events in 2015/2016 compare to those without in 2010-2015?"
   ]
  },
  {
   "cell_type": "markdown",
   "metadata": {},
   "source": [
    "Now let's have a look to see how much we spent on drugs that were found to have adverse effects.  The idea here is we want to see if we're spending differently for worse outcomes."
   ]
  },
  {
   "cell_type": "code",
   "execution_count": 6,
   "metadata": {},
   "outputs": [
    {
     "data": {
      "image/png": "[encoded data removed]",
      "text/plain": [
       "<matplotlib.figure.Figure at 0x7f026f6d21d0>"
      ]
     },
     "metadata": {},
     "output_type": "display_data"
    },
    {
     "name": "stdout",
     "output_type": "stream",
     "text": [
      "Ratio of spending for drugs without adverse effect/with adverse effects by year:\n",
      "2010:1.29307515515\n",
      "2011:1.13216869219\n",
      "2012:1.11966813571\n",
      "2013:1.15920417295\n",
      "2014:1.29863808515\n",
      "2015:1.30777807817\n"
     ]
    },
    {
     "data": {
      "image/png": "[encoded data removed]",
      "text/plain": [
       "<matplotlib.figure.Figure at 0x7f026cdcd048>"
      ]
     },
     "metadata": {},
     "output_type": "display_data"
    },
    {
     "data": {
      "text/plain": [
       "RanksumsResult(statistic=-2.0290673557864465, pvalue=0.042451430305581142)"
      ]
     },
     "execution_count": 6,
     "metadata": {},
     "output_type": "execute_result"
    }
   ],
   "source": [
    "import math\n",
    "from scipy import stats\n",
    "import numpy\n",
    "#check which bran name drugs are also included in the adverse drug data\n",
    "#check which generic drugs are also included in the adverse drug data\n",
    "#drugsincommon=sorted(list(set(list(dfAdvEvents.drugname)) & set(list(dfMedSpend.generic_name.append(dfMedSpend.brand_name)))))\n",
    "allDrugsMedicare=list(dfMedSpend.generic_name)#+list(dfMedSpend.brand_name)\n",
    "drugsincommon=sorted(list(set(list(dfAdvEvents.drugname)) & set(allDrugsMedicare)))\n",
    "drugsnotincommon=[x for x in list(dfMedSpend.generic_name) if x not in drugsincommon]\n",
    "#print(sorted(drugsincommon))\n",
    "#print(sorted(drugsnotincommon))\n",
    "#dfMedSpend.generic_name.append(dfMedSpend.brand_name)\n",
    "\n",
    "\n",
    "groupdrugspend=dfMedSpend.groupby(['year','generic_name'])['total_spending'].sum()\n",
    "groupagespend=dfMedSpend.groupby(['year','generic_name']).sum().keys()\n",
    "\n",
    "f = plt.figure(figsize=(8,8))\n",
    "incommonmean=groupdrugspend.unstack()[drugsincommon].T.mean()\n",
    "#calculate the standard error\n",
    "incommonste=groupdrugspend.unstack()[drugsincommon].T.std()/math.sqrt(groupdrugspend.unstack()[drugsincommon].T.shape[0])\n",
    "notincommonmean=groupdrugspend.unstack()[drugsnotincommon].T.mean()\n",
    "#calculate the standard error\n",
    "notincommonste=groupdrugspend.unstack()[drugsnotincommon].T.std()/math.sqrt(groupdrugspend.unstack()[drugsnotincommon].T.shape[0])\n",
    "plt.fill_between(notincommonste.index, notincommonmean-notincommonste, notincommonmean+notincommonste, color='b', alpha=0.2)\n",
    "plt.fill_between(incommonste.index, incommonmean-incommonste, incommonmean+incommonste, color='r', alpha=0.2)\n",
    "groupdrugspend.unstack()[drugsnotincommon].T.mean().plot(ax=f.gca(),color='b',label='No Adverse Effects (2015/2016)+/-STE')\n",
    "groupdrugspend.unstack()[drugsincommon].T.mean().plot(ax=f.gca(),color='r',label='Adverse Effects (2015/2016)+/-STE')\n",
    "plt.ylabel('Average Medicare $ Spent per Drug',fontsize=20)\n",
    "plt.xlabel('Year',fontsize=20)\n",
    "plt.xticks(fontsize=20)\n",
    "plt.yticks(fontsize=20)\n",
    "plt.legend(fontsize=15,loc='upper left')\n",
    "plt.show()\n",
    "ratioAdvNoAdv=list()\n",
    "for i in range(2010,2016):\n",
    "    ratioAdvNoAdv.append(incommonmean[i]/notincommonmean[i])\n",
    "print('Ratio of spending for drugs without adverse effect/with adverse effects by year:')\n",
    "for i in range(2010,2016):\n",
    "    print(str(i)+':'+str(incommonmean[i]/notincommonmean[i]))\n",
    "\n",
    "groupdrugspend.unstack()[drugsincommon].T[2015].values.shape\n",
    "#Let's see if there is a significant difference in spending in 2015 between drugs found to have adverse effects vs those that don't\n",
    "notincommonforttest = groupdrugspend.unstack()[drugsnotincommon].T[2015].values[~numpy.isnan(groupdrugspend.unstack()[drugsnotincommon].T[2015].values)]\n",
    "incommonforttest = groupdrugspend.unstack()[drugsincommon].T[2015].values[~numpy.isnan(groupdrugspend.unstack()[drugsincommon].T[2015].values)]\n",
    "plt.figure(figsize=(7,7))\n",
    "\n",
    "weightsnotincommon = np.ones_like(notincommonforttest)/float(len(notincommonforttest))\n",
    "weightsincommon = np.ones_like(incommonforttest)/float(len(incommonforttest))\n",
    "\n",
    "#Note: I used different bin sizes in each histogram to give roughly equal bin widths\n",
    "plt.hist(notincommonforttest/1e9,weights=weightsnotincommon,alpha=0.4,bins=20,label='No Adverse Events (2015/2016)')\n",
    "plt.hist(incommonforttest/1e9,weights=weightsincommon,alpha=0.4,bins=40,label='Adverse Events (2015/2016)')\n",
    "\n",
    "plt.title('Normalized Distribution of Medicare Spending (2015)',fontsize=20)\n",
    "plt.xlabel('Medicare Spending ($Billions)',fontsize=20)\n",
    "plt.ylabel('Proportion',fontsize=20)\n",
    "plt.xticks(fontsize=20)\n",
    "plt.yticks(fontsize=20)\n",
    "plt.legend(fontsize=15)\n",
    "plt.show()\n",
    "stats.ranksums(notincommonforttest,incommonforttest)"
   ]
  },
  {
   "cell_type": "markdown",
   "metadata": {},
   "source": [
    "# Medicare spent on average ~30% more on drugs found to have adverse effects than those which weren't found to have adverse effects in 2015, and the trends seems to be climbing..."
   ]
  },
  {
   "cell_type": "markdown",
   "metadata": {},
   "source": [
    "I should mention that this measure is biased however...drugs with adverse events in 2015/2016 could be newer drugs that patients are trying out of desperation.  Therefore, they may not have existed (or been less accessible) in 2010-2015.  To account for this, I should include a dataset that tracks each drugs life cycle (research, fda approval, first sale date).  Nevertheless, for now I'm going proceed in a naive way to see how drugs found to have adverse effects in 2015/2016 may influence Medicare spending."
   ]
  },
  {
   "cell_type": "markdown",
   "metadata": {},
   "source": [
    "# Could Medicare have used drugs with less adverse effects instead?  Would this have improved patient outcomes and would it have saved money?"
   ]
  },
  {
   "cell_type": "markdown",
   "metadata": {},
   "source": [
    "## Let's see if we can take the most severe adverse outcomes (i.e. those that result in death) and use a different drug"
   ]
  },
  {
   "cell_type": "code",
   "execution_count": 7,
   "metadata": {},
   "outputs": [],
   "source": [
    "#Let's see if we can find drugs for the same indication without adverse effects\n",
    "#indipt_incommon=dfMedSpend[dfMedSpend['generic_name'].isin(drugsincommon)]#['coverage_type']\n",
    "\n",
    "dfAdvEventsPTnotnull=dfAdvEvents[pd.notnull(dfAdvEvents['pt'])]#let's drop events where there's no info on the event type\n",
    "#find the drugs that had any adverse events that included death\n",
    "dfDeath=dfAdvEventsPTnotnull[dfAdvEventsPTnotnull['pt'].str.contains(\"[Dd]eath\")]['drugname']\n",
    "dfNotDeath=dfAdvEventsPTnotnull[~dfAdvEventsPTnotnull['pt'].str.contains(\"[Dd]eath\")]['drugname']\n",
    "\n",
    "dfBetterOutcome=dfAdvEventsPTnotnull[~dfAdvEventsPTnotnull['drugname'].isin(dfDeath)]\n",
    "#dfBetterOutcomeIncommon=dfBetterOutcome[dfBetterOutcome['drugname'].isin(drugsincommon)]\n",
    "\n",
    "dfWorseOutcome=dfAdvEventsPTnotnull[dfAdvEventsPTnotnull['drugname'].isin(dfDeath)]\n",
    "#dfWorseOutcomeIncommon=dfWorseOutcome[dfWorseOutcome['drugname'].isin(drugsincommon)]\n"
   ]
  },
  {
   "cell_type": "markdown",
   "metadata": {},
   "source": [
    "So now we've separated out drugs that were found to lead to a death event at least once and those that never led to a death event.  I'm going to call these BetterOutcomes (no death events observed) and WorseOutcomes (at least one death event observed)."
   ]
  },
  {
   "cell_type": "code",
   "execution_count": 8,
   "metadata": {},
   "outputs": [
    {
     "name": "stderr",
     "output_type": "stream",
     "text": [
      "/home/ben/anaconda3/envs/insight/lib/python3.6/site-packages/ipykernel_launcher.py:1: SettingWithCopyWarning: \n",
      "A value is trying to be set on a copy of a slice from a DataFrame\n",
      "\n",
      "See the caveats in the documentation: http://pandas.pydata.org/pandas-docs/stable/indexing.html#indexing-view-versus-copy\n",
      "  \"\"\"Entry point for launching an IPython kernel.\n",
      "/home/ben/anaconda3/envs/insight/lib/python3.6/site-packages/ipykernel_launcher.py:2: SettingWithCopyWarning: \n",
      "A value is trying to be set on a copy of a slice from a DataFrame\n",
      "\n",
      "See the caveats in the documentation: http://pandas.pydata.org/pandas-docs/stable/indexing.html#indexing-view-versus-copy\n",
      "  \n",
      "/home/ben/anaconda3/envs/insight/lib/python3.6/site-packages/ipykernel_launcher.py:3: SettingWithCopyWarning: \n",
      "A value is trying to be set on a copy of a slice from a DataFrame.\n",
      "Try using .loc[row_indexer,col_indexer] = value instead\n",
      "\n",
      "See the caveats in the documentation: http://pandas.pydata.org/pandas-docs/stable/indexing.html#indexing-view-versus-copy\n",
      "  This is separate from the ipykernel package so we can avoid doing imports until\n",
      "/home/ben/anaconda3/envs/insight/lib/python3.6/site-packages/ipykernel_launcher.py:4: SettingWithCopyWarning: \n",
      "A value is trying to be set on a copy of a slice from a DataFrame.\n",
      "Try using .loc[row_indexer,col_indexer] = value instead\n",
      "\n",
      "See the caveats in the documentation: http://pandas.pydata.org/pandas-docs/stable/indexing.html#indexing-view-versus-copy\n",
      "  after removing the cwd from sys.path.\n"
     ]
    },
    {
     "name": "stdout",
     "output_type": "stream",
     "text": [
      "Index(['drugname', 'indi_pt', 'age', 'sex', 'wt', 'outcome'], dtype='object')\n",
      "Index(['drugname', 'indi_pt', 'age', 'sex', 'wt', 'outcome'], dtype='object')\n"
     ]
    }
   ],
   "source": [
    "dfBetterOutcome.drop(columns=['primaryid', 'caseid','outc_cod_definition','drug_seq','pt','role_cod'],inplace=True)\n",
    "dfWorseOutcome.drop(columns=['primaryid', 'caseid','outc_cod_definition','drug_seq','pt','role_cod'],inplace=True)\n",
    "dfBetterOutcome['outcome']='nodeath'\n",
    "dfWorseOutcome['outcome']='death'\n",
    "print(dfBetterOutcome.keys())\n",
    "print(dfWorseOutcome.keys())\n",
    "\n",
    "frames = [dfBetterOutcome, dfWorseOutcome]\n",
    "outcomeAll = pd.concat(frames)"
   ]
  },
  {
   "cell_type": "markdown",
   "metadata": {},
   "source": [
    "# Building a classifier to predict likelihood of death due to medication based on basic patient data and indicated uses"
   ]
  },
  {
   "cell_type": "markdown",
   "metadata": {},
   "source": [
    "### H2O's (www.h2o.ai) classifiers do not require one-hot encoding of categorical variables (which inefficiently and drastically expand the size of our dataframe) like SKLearn does.  Let's use H2O for our classifier."
   ]
  },
  {
   "cell_type": "code",
   "execution_count": 9,
   "metadata": {},
   "outputs": [
    {
     "name": "stdout",
     "output_type": "stream",
     "text": [
      "Checking whether there is an H2O instance running at http://localhost:54321..... not found.\n",
      "Attempting to start a local H2O server...\n",
      "  Java Version: openjdk version \"1.8.0_121\"; OpenJDK Runtime Environment (Zulu 8.20.0.5-linux64) (build 1.8.0_121-b15); OpenJDK 64-Bit Server VM (Zulu 8.20.0.5-linux64) (build 25.121-b15, mixed mode)\n",
      "  Starting server from /home/ben/anaconda3/envs/insight/lib/python3.6/site-packages/h2o/backend/bin/h2o.jar\n",
      "  Ice root: /tmp/tmpqe1wu0kb\n",
      "  JVM stdout: /tmp/tmpqe1wu0kb/h2o_ben_started_from_python.out\n",
      "  JVM stderr: /tmp/tmpqe1wu0kb/h2o_ben_started_from_python.err\n",
      "  Server is running at http://127.0.0.1:54321\n",
      "Connecting to H2O server at http://127.0.0.1:54321... successful.\n"
     ]
    },
    {
     "data": {
      "text/html": [
       "<div style=\"overflow:auto\"><table style=\"width:50%\"><tr><td>H2O cluster uptime:</td>\n",
       "<td>06 secs</td></tr>\n",
       "<tr><td>H2O cluster timezone:</td>\n",
       "<td>America/New_York</td></tr>\n",
       "<tr><td>H2O data parsing timezone:</td>\n",
       "<td>UTC</td></tr>\n",
       "<tr><td>H2O cluster version:</td>\n",
       "<td>3.18.0.2</td></tr>\n",
       "<tr><td>H2O cluster version age:</td>\n",
       "<td>16 days </td></tr>\n",
       "<tr><td>H2O cluster name:</td>\n",
       "<td>H2O_from_python_ben_a621cg</td></tr>\n",
       "<tr><td>H2O cluster total nodes:</td>\n",
       "<td>1</td></tr>\n",
       "<tr><td>H2O cluster free memory:</td>\n",
       "<td>3.457 Gb</td></tr>\n",
       "<tr><td>H2O cluster total cores:</td>\n",
       "<td>8</td></tr>\n",
       "<tr><td>H2O cluster allowed cores:</td>\n",
       "<td>8</td></tr>\n",
       "<tr><td>H2O cluster status:</td>\n",
       "<td>accepting new members, healthy</td></tr>\n",
       "<tr><td>H2O connection url:</td>\n",
       "<td>http://127.0.0.1:54321</td></tr>\n",
       "<tr><td>H2O connection proxy:</td>\n",
       "<td>None</td></tr>\n",
       "<tr><td>H2O internal security:</td>\n",
       "<td>False</td></tr>\n",
       "<tr><td>H2O API Extensions:</td>\n",
       "<td>XGBoost, Algos, AutoML, Core V3, Core V4</td></tr>\n",
       "<tr><td>Python version:</td>\n",
       "<td>3.6.2 final</td></tr></table></div>"
      ],
      "text/plain": [
       "--------------------------  ----------------------------------------\n",
       "H2O cluster uptime:         06 secs\n",
       "H2O cluster timezone:       America/New_York\n",
       "H2O data parsing timezone:  UTC\n",
       "H2O cluster version:        3.18.0.2\n",
       "H2O cluster version age:    16 days\n",
       "H2O cluster name:           H2O_from_python_ben_a621cg\n",
       "H2O cluster total nodes:    1\n",
       "H2O cluster free memory:    3.457 Gb\n",
       "H2O cluster total cores:    8\n",
       "H2O cluster allowed cores:  8\n",
       "H2O cluster status:         accepting new members, healthy\n",
       "H2O connection url:         http://127.0.0.1:54321\n",
       "H2O connection proxy:\n",
       "H2O internal security:      False\n",
       "H2O API Extensions:         XGBoost, Algos, AutoML, Core V3, Core V4\n",
       "Python version:             3.6.2 final\n",
       "--------------------------  ----------------------------------------"
      ]
     },
     "metadata": {},
     "output_type": "display_data"
    },
    {
     "name": "stdout",
     "output_type": "stream",
     "text": [
      "Parse progress: |█████████████████████████████████████████████████████████| 100%\n",
      "gbm Model Build progress: |███████████████████████████████████████████████| 100%\n"
     ]
    }
   ],
   "source": [
    "import h2o\n",
    "from h2o.estimators import H2OGradientBoostingEstimator\n",
    "\n",
    "#dfBetterOutcome.drop(columns=['primaryid', 'caseid','outc_cod_definition','drug_seq','drug_seq'],inplace=True)\n",
    "#dfWorseOutcome.drop(columns=['primaryid', 'caseid','outc_cod_definition','drug_seq','drug_seq'],inplace=True)\n",
    "\n",
    "h2o.init()\n",
    "\n",
    "hfoutcomeAll = h2o.H2OFrame(outcomeAll)\n",
    "train, test = hfoutcomeAll.split_frame(ratios=[0.80])#80/20 split train/test\n",
    "train['drugname']=train['drugname'].asfactor()\n",
    "test['drugname']=test['drugname'].asfactor()\n",
    "train['indi_pt']=train['indi_pt'].asfactor()\n",
    "test['indi_pt']=test['indi_pt'].asfactor()\n",
    "train['sex']=train['sex'].asfactor()\n",
    "test['sex']=test['sex'].asfactor()\n",
    "train['outcome']=train['outcome'].asfactor()\n",
    "test['outcome']=test['outcome'].asfactor()\n",
    "\n",
    "outcome_GBM = H2OGradientBoostingEstimator(distribution=\"bernoulli\",balance_classes=True, ntrees=150, max_depth=8, min_rows=10, learn_rate=0.2)\n",
    "outcome_GBM.train(x=['drugname', 'indi_pt', 'age', 'sex', 'wt'],y='outcome', training_frame=train)\n",
    "#'role_cod', 'drugname', 'indi_pt', 'age', 'sex', 'wt'"
   ]
  },
  {
   "cell_type": "code",
   "execution_count": 10,
   "metadata": {},
   "outputs": [
    {
     "data": {
      "image/png": "[encoded data removed]",
      "text/plain": [
       "<matplotlib.figure.Figure at 0x7f026cdddef0>"
      ]
     },
     "metadata": {},
     "output_type": "display_data"
    }
   ],
   "source": [
    "performance = outcome_GBM.model_performance(test)\n",
    "performance.plot(type='roc')"
   ]
  },
  {
   "cell_type": "code",
   "execution_count": 11,
   "metadata": {},
   "outputs": [
    {
     "name": "stdout",
     "output_type": "stream",
     "text": [
      "Normalized confusion matrix\n",
      "[[ 0.93498956  0.06501044]\n",
      " [ 0.21872113  0.78127887]]\n"
     ]
    },
    {
     "data": {
      "image/png": "[encoded data removed]",
      "text/plain": [
       "<matplotlib.figure.Figure at 0x7f0268f02390>"
      ]
     },
     "metadata": {},
     "output_type": "display_data"
    },
    {
     "name": "stdout",
     "output_type": "stream",
     "text": [
      "(2, 2)\n"
     ]
    }
   ],
   "source": [
    "import itertools\n",
    "def plot_confusion_matrix(cm, classes,\n",
    "                          normalize=False,\n",
    "                          title='',\n",
    "                          cmap=plt.cm.Greys):\n",
    "    \"\"\"\n",
    "    This function prints and plots the confusion matrix.\n",
    "    Normalization can be applied by setting `normalize=True`.\n",
    "    \"\"\"\n",
    "    plt.figure(figsize=(8,8))\n",
    "    if normalize:\n",
    "        cm = cm.astype('float') / cm.sum(axis=1)[:, np.newaxis]\n",
    "        print(\"Normalized confusion matrix\")\n",
    "    else:\n",
    "        print('Confusion matrix, without normalization')\n",
    "\n",
    "    print(cm)\n",
    "\n",
    "    plt.imshow(cm, interpolation='nearest', cmap=cmap)\n",
    "    plt.title(title)\n",
    "    plt.colorbar()\n",
    "    tick_marks = np.arange(len(classes))\n",
    "    plt.xticks(tick_marks, classes, rotation=45,fontsize=15)\n",
    "    plt.yticks(tick_marks, classes,fontsize=15)\n",
    "\n",
    "    fmt = '.2f' if normalize else 'd'\n",
    "    thresh = cm.max() / 2.\n",
    "    for i, j in itertools.product(range(cm.shape[0]), range(cm.shape[1])):\n",
    "        plt.text(j, i, format(cm[i, j], fmt),\n",
    "                 horizontalalignment=\"center\",fontsize=30,\n",
    "                 color=\"white\" if cm[i, j] > thresh else \"black\")\n",
    "\n",
    "    plt.tight_layout()\n",
    "    plt.ylabel('True label',fontsize=15)\n",
    "    plt.xlabel('Predicted label',fontsize=15)\n",
    "    plt.show()\n",
    "\n",
    "cfm=np.asarray(performance.confusion_matrix().to_list())\n",
    "plot_confusion_matrix(cfm,classes=['Death','NoDeath'], normalize=True,title='')\n",
    "print(cfm.shape)"
   ]
  },
  {
   "cell_type": "code",
   "execution_count": 12,
   "metadata": {},
   "outputs": [
    {
     "name": "stdout",
     "output_type": "stream",
     "text": [
      "\n",
      "ModelMetricsBinomial: gbm\n",
      "** Reported on test data. **\n",
      "\n",
      "MSE: 0.05105729145808041\n",
      "RMSE: 0.22595860562961617\n",
      "LogLoss: 0.1697928469634285\n",
      "Mean Per-Class Error: 0.11399340553689163\n",
      "AUC: 0.9277924249553292\n",
      "Gini: 0.8555848499106584\n",
      "Confusion Matrix (Act/Pred) for max f1 @ threshold = 0.2239691486603253: \n"
     ]
    },
    {
     "data": {
      "text/html": [
       "<div style=\"overflow:auto\"><table style=\"width:50%\"><tr><td><b></b></td>\n",
       "<td><b>death</b></td>\n",
       "<td><b>nodeath</b></td>\n",
       "<td><b>Error</b></td>\n",
       "<td><b>Rate</b></td></tr>\n",
       "<tr><td>death</td>\n",
       "<td>928727.0</td>\n",
       "<td>64575.0</td>\n",
       "<td>0.065</td>\n",
       "<td> (64575.0/993302.0)</td></tr>\n",
       "<tr><td>nodeath</td>\n",
       "<td>21546.0</td>\n",
       "<td>76963.0</td>\n",
       "<td>0.2187</td>\n",
       "<td> (21546.0/98509.0)</td></tr>\n",
       "<tr><td>Total</td>\n",
       "<td>950273.0</td>\n",
       "<td>141538.0</td>\n",
       "<td>0.0789</td>\n",
       "<td> (86121.0/1091811.0)</td></tr></table></div>"
      ],
      "text/plain": [
       "         death    nodeath    Error    Rate\n",
       "-------  -------  ---------  -------  -------------------\n",
       "death    928727   64575      0.065    (64575.0/993302.0)\n",
       "nodeath  21546    76963      0.2187   (21546.0/98509.0)\n",
       "Total    950273   141538     0.0789   (86121.0/1091811.0)"
      ]
     },
     "metadata": {},
     "output_type": "display_data"
    },
    {
     "name": "stdout",
     "output_type": "stream",
     "text": [
      "Maximum Metrics: Maximum metrics at their respective thresholds\n",
      "\n"
     ]
    },
    {
     "data": {
      "text/html": [
       "<div style=\"overflow:auto\"><table style=\"width:50%\"><tr><td><b>metric</b></td>\n",
       "<td><b>threshold</b></td>\n",
       "<td><b>value</b></td>\n",
       "<td><b>idx</b></td></tr>\n",
       "<tr><td>max f1</td>\n",
       "<td>0.2239691</td>\n",
       "<td>0.6412328</td>\n",
       "<td>242.0</td></tr>\n",
       "<tr><td>max f2</td>\n",
       "<td>0.1161447</td>\n",
       "<td>0.7422873</td>\n",
       "<td>287.0</td></tr>\n",
       "<tr><td>max f0point5</td>\n",
       "<td>0.3095336</td>\n",
       "<td>0.5938579</td>\n",
       "<td>208.0</td></tr>\n",
       "<tr><td>max accuracy</td>\n",
       "<td>0.3550078</td>\n",
       "<td>0.9259881</td>\n",
       "<td>188.0</td></tr>\n",
       "<tr><td>max precision</td>\n",
       "<td>0.9306191</td>\n",
       "<td>0.9845560</td>\n",
       "<td>2.0</td></tr>\n",
       "<tr><td>max recall</td>\n",
       "<td>0.0012440</td>\n",
       "<td>1.0</td>\n",
       "<td>398.0</td></tr>\n",
       "<tr><td>max specificity</td>\n",
       "<td>0.9497039</td>\n",
       "<td>0.9999990</td>\n",
       "<td>0.0</td></tr>\n",
       "<tr><td>max absolute_mcc</td>\n",
       "<td>0.1908725</td>\n",
       "<td>0.6123170</td>\n",
       "<td>255.0</td></tr>\n",
       "<tr><td>max min_per_class_accuracy</td>\n",
       "<td>0.0771677</td>\n",
       "<td>0.8843484</td>\n",
       "<td>308.0</td></tr>\n",
       "<tr><td>max mean_per_class_accuracy</td>\n",
       "<td>0.0813915</td>\n",
       "<td>0.8860066</td>\n",
       "<td>305.0</td></tr></table></div>"
      ],
      "text/plain": [
       "metric                       threshold    value     idx\n",
       "---------------------------  -----------  --------  -----\n",
       "max f1                       0.223969     0.641233  242\n",
       "max f2                       0.116145     0.742287  287\n",
       "max f0point5                 0.309534     0.593858  208\n",
       "max accuracy                 0.355008     0.925988  188\n",
       "max precision                0.930619     0.984556  2\n",
       "max recall                   0.00124396   1         398\n",
       "max specificity              0.949704     0.999999  0\n",
       "max absolute_mcc             0.190872     0.612317  255\n",
       "max min_per_class_accuracy   0.0771677    0.884348  308\n",
       "max mean_per_class_accuracy  0.0813915    0.886007  305"
      ]
     },
     "metadata": {},
     "output_type": "display_data"
    },
    {
     "name": "stdout",
     "output_type": "stream",
     "text": [
      "Gains/Lift Table: Avg response rate:  9.02 %\n",
      "\n"
     ]
    },
    {
     "data": {
      "text/html": [
       "<div style=\"overflow:auto\"><table style=\"width:50%\"><tr><td><b></b></td>\n",
       "<td><b>group</b></td>\n",
       "<td><b>cumulative_data_fraction</b></td>\n",
       "<td><b>lower_threshold</b></td>\n",
       "<td><b>lift</b></td>\n",
       "<td><b>cumulative_lift</b></td>\n",
       "<td><b>response_rate</b></td>\n",
       "<td><b>cumulative_response_rate</b></td>\n",
       "<td><b>capture_rate</b></td>\n",
       "<td><b>cumulative_capture_rate</b></td>\n",
       "<td><b>gain</b></td>\n",
       "<td><b>cumulative_gain</b></td></tr>\n",
       "<tr><td></td>\n",
       "<td>1</td>\n",
       "<td>0.0100008</td>\n",
       "<td>0.7958311</td>\n",
       "<td>6.1877627</td>\n",
       "<td>6.1877627</td>\n",
       "<td>0.5582929</td>\n",
       "<td>0.5582929</td>\n",
       "<td>0.0618827</td>\n",
       "<td>0.0618827</td>\n",
       "<td>518.7762661</td>\n",
       "<td>518.7762661</td></tr>\n",
       "<tr><td></td>\n",
       "<td>2</td>\n",
       "<td>0.0200447</td>\n",
       "<td>0.7139242</td>\n",
       "<td>7.0213498</td>\n",
       "<td>6.6054514</td>\n",
       "<td>0.6335036</td>\n",
       "<td>0.5959790</td>\n",
       "<td>0.0705215</td>\n",
       "<td>0.1324041</td>\n",
       "<td>602.1349841</td>\n",
       "<td>560.5451352</td></tr>\n",
       "<tr><td></td>\n",
       "<td>3</td>\n",
       "<td>0.0300006</td>\n",
       "<td>0.6285663</td>\n",
       "<td>7.7175689</td>\n",
       "<td>6.9745162</td>\n",
       "<td>0.6963201</td>\n",
       "<td>0.6292780</td>\n",
       "<td>0.0768356</td>\n",
       "<td>0.2092398</td>\n",
       "<td>671.7568915</td>\n",
       "<td>597.4516164</td></tr>\n",
       "<tr><td></td>\n",
       "<td>4</td>\n",
       "<td>0.0400023</td>\n",
       "<td>0.5629001</td>\n",
       "<td>7.1970812</td>\n",
       "<td>7.0301638</td>\n",
       "<td>0.6493590</td>\n",
       "<td>0.6342988</td>\n",
       "<td>0.0719833</td>\n",
       "<td>0.2812230</td>\n",
       "<td>619.7081192</td>\n",
       "<td>603.0163791</td></tr>\n",
       "<tr><td></td>\n",
       "<td>5</td>\n",
       "<td>0.0500013</td>\n",
       "<td>0.5194718</td>\n",
       "<td>6.5645347</td>\n",
       "<td>6.9370499</td>\n",
       "<td>0.5922873</td>\n",
       "<td>0.6258976</td>\n",
       "<td>0.0656387</td>\n",
       "<td>0.3468617</td>\n",
       "<td>556.4534650</td>\n",
       "<td>593.7049904</td></tr>\n",
       "<tr><td></td>\n",
       "<td>6</td>\n",
       "<td>0.1000027</td>\n",
       "<td>0.3334240</td>\n",
       "<td>5.9128052</td>\n",
       "<td>6.4249276</td>\n",
       "<td>0.5334848</td>\n",
       "<td>0.5796912</td>\n",
       "<td>0.2956481</td>\n",
       "<td>0.6425098</td>\n",
       "<td>491.2805215</td>\n",
       "<td>542.4927559</td></tr>\n",
       "<tr><td></td>\n",
       "<td>7</td>\n",
       "<td>0.1500122</td>\n",
       "<td>0.1519892</td>\n",
       "<td>3.8949391</td>\n",
       "<td>5.5815054</td>\n",
       "<td>0.3514221</td>\n",
       "<td>0.5035931</td>\n",
       "<td>0.1947842</td>\n",
       "<td>0.8372941</td>\n",
       "<td>289.4939069</td>\n",
       "<td>458.1505381</td></tr>\n",
       "<tr><td></td>\n",
       "<td>8</td>\n",
       "<td>0.2000007</td>\n",
       "<td>0.0602288</td>\n",
       "<td>1.1747820</td>\n",
       "<td>4.4800819</td>\n",
       "<td>0.1059951</td>\n",
       "<td>0.4042168</td>\n",
       "<td>0.0587256</td>\n",
       "<td>0.8960197</td>\n",
       "<td>17.4782048</td>\n",
       "<td>348.0081852</td></tr>\n",
       "<tr><td></td>\n",
       "<td>9</td>\n",
       "<td>0.3000006</td>\n",
       "<td>0.0276419</td>\n",
       "<td>0.3740778</td>\n",
       "<td>3.1114180</td>\n",
       "<td>0.0337513</td>\n",
       "<td>0.2807287</td>\n",
       "<td>0.0374077</td>\n",
       "<td>0.9334274</td>\n",
       "<td>-62.5922162</td>\n",
       "<td>211.1418026</td></tr>\n",
       "<tr><td></td>\n",
       "<td>10</td>\n",
       "<td>0.4000005</td>\n",
       "<td>0.0176712</td>\n",
       "<td>0.1960229</td>\n",
       "<td>2.3825709</td>\n",
       "<td>0.0176862</td>\n",
       "<td>0.2149682</td>\n",
       "<td>0.0196023</td>\n",
       "<td>0.9530297</td>\n",
       "<td>-80.3977122</td>\n",
       "<td>138.2570908</td></tr>\n",
       "<tr><td></td>\n",
       "<td>11</td>\n",
       "<td>0.5000252</td>\n",
       "<td>0.0123448</td>\n",
       "<td>0.1125508</td>\n",
       "<td>1.9284779</td>\n",
       "<td>0.0101549</td>\n",
       "<td>0.1739975</td>\n",
       "<td>0.0112579</td>\n",
       "<td>0.9642875</td>\n",
       "<td>-88.7449184</td>\n",
       "<td>92.8477907</td></tr>\n",
       "<tr><td></td>\n",
       "<td>12</td>\n",
       "<td>0.6000004</td>\n",
       "<td>0.0088304</td>\n",
       "<td>0.0873233</td>\n",
       "<td>1.6216952</td>\n",
       "<td>0.0078788</td>\n",
       "<td>0.1463180</td>\n",
       "<td>0.0087302</td>\n",
       "<td>0.9730177</td>\n",
       "<td>-91.2676657</td>\n",
       "<td>62.1695166</td></tr>\n",
       "<tr><td></td>\n",
       "<td>13</td>\n",
       "<td>0.7000003</td>\n",
       "<td>0.0061544</td>\n",
       "<td>0.0785716</td>\n",
       "<td>1.4012492</td>\n",
       "<td>0.0070891</td>\n",
       "<td>0.1264282</td>\n",
       "<td>0.0078572</td>\n",
       "<td>0.9808748</td>\n",
       "<td>-92.1428427</td>\n",
       "<td>40.1249227</td></tr>\n",
       "<tr><td></td>\n",
       "<td>14</td>\n",
       "<td>0.8000002</td>\n",
       "<td>0.0039061</td>\n",
       "<td>0.0798913</td>\n",
       "<td>1.2360797</td>\n",
       "<td>0.0072082</td>\n",
       "<td>0.1115257</td>\n",
       "<td>0.0079891</td>\n",
       "<td>0.9888640</td>\n",
       "<td>-92.0108749</td>\n",
       "<td>23.6079669</td></tr>\n",
       "<tr><td></td>\n",
       "<td>15</td>\n",
       "<td>0.9000001</td>\n",
       "<td>0.0020721</td>\n",
       "<td>0.0590810</td>\n",
       "<td>1.1053022</td>\n",
       "<td>0.0053306</td>\n",
       "<td>0.0997262</td>\n",
       "<td>0.0059081</td>\n",
       "<td>0.9947721</td>\n",
       "<td>-94.0919050</td>\n",
       "<td>10.5302167</td></tr>\n",
       "<tr><td></td>\n",
       "<td>16</td>\n",
       "<td>1.0</td>\n",
       "<td>0.0001371</td>\n",
       "<td>0.0522795</td>\n",
       "<td>1.0</td>\n",
       "<td>0.0047169</td>\n",
       "<td>0.0902253</td>\n",
       "<td>0.0052279</td>\n",
       "<td>1.0</td>\n",
       "<td>-94.7720465</td>\n",
       "<td>0.0</td></tr></table></div>"
      ],
      "text/plain": [
       "    group    cumulative_data_fraction    lower_threshold    lift       cumulative_lift    response_rate    cumulative_response_rate    capture_rate    cumulative_capture_rate    gain      cumulative_gain\n",
       "--  -------  --------------------------  -----------------  ---------  -----------------  ---------------  --------------------------  --------------  -------------------------  --------  -----------------\n",
       "    1        0.0100008                   0.795831           6.18776    6.18776            0.558293         0.558293                    0.0618827       0.0618827                  518.776   518.776\n",
       "    2        0.0200447                   0.713924           7.02135    6.60545            0.633504         0.595979                    0.0705215       0.132404                   602.135   560.545\n",
       "    3        0.0300006                   0.628566           7.71757    6.97452            0.69632          0.629278                    0.0768356       0.20924                    671.757   597.452\n",
       "    4        0.0400023                   0.5629             7.19708    7.03016            0.649359         0.634299                    0.0719833       0.281223                   619.708   603.016\n",
       "    5        0.0500013                   0.519472           6.56453    6.93705            0.592287         0.625898                    0.0656387       0.346862                   556.453   593.705\n",
       "    6        0.100003                    0.333424           5.91281    6.42493            0.533485         0.579691                    0.295648        0.64251                    491.281   542.493\n",
       "    7        0.150012                    0.151989           3.89494    5.58151            0.351422         0.503593                    0.194784        0.837294                   289.494   458.151\n",
       "    8        0.200001                    0.0602288          1.17478    4.48008            0.105995         0.404217                    0.0587256       0.89602                    17.4782   348.008\n",
       "    9        0.300001                    0.0276419          0.374078   3.11142            0.0337513        0.280729                    0.0374077       0.933427                   -62.5922  211.142\n",
       "    10       0.400001                    0.0176712          0.196023   2.38257            0.0176862        0.214968                    0.0196023       0.95303                    -80.3977  138.257\n",
       "    11       0.500025                    0.0123448          0.112551   1.92848            0.0101549        0.173998                    0.0112579       0.964288                   -88.7449  92.8478\n",
       "    12       0.6                         0.00883038         0.0873233  1.6217             0.00787878       0.146318                    0.00873017      0.973018                   -91.2677  62.1695\n",
       "    13       0.7                         0.00615438         0.0785716  1.40125            0.00708915       0.126428                    0.00785715      0.980875                   -92.1428  40.1249\n",
       "    14       0.8                         0.00390609         0.0798913  1.23608            0.00720821       0.111526                    0.00798912      0.988864                   -92.0109  23.608\n",
       "    15       0.9                         0.00207211         0.059081   1.1053             0.0053306        0.0997262                   0.00590809      0.994772                   -94.0919  10.5302\n",
       "    16       1                           0.00013712         0.0522795  1                  0.00471694       0.0902253                   0.00522795      1                          -94.772   0"
      ]
     },
     "metadata": {},
     "output_type": "display_data"
    },
    {
     "name": "stdout",
     "output_type": "stream",
     "text": [
      "\n"
     ]
    }
   ],
   "source": [
    "performance.show()"
   ]
  },
  {
   "cell_type": "markdown",
   "metadata": {},
   "source": [
    "Our model seems to be performing reasonably well, despite a dearth of patient information (no vital signs, medical history, etc.).  There is certainly a lot of room for improvement here, but this is a start.  In future iterations, I'm going to pull in more datasets and try different models.  But, for now, I can build off of this and move toward better precision and recall.  The most important area here to focus on for improvement is false negatives for the 'death' category.  Telling someone they'll be fine when a medication will almost certainly kill them is an unacceptable outcome."
   ]
  },
  {
   "cell_type": "code",
   "execution_count": null,
   "metadata": {},
   "outputs": [],
   "source": []
  },
  {
   "cell_type": "code",
   "execution_count": 13,
   "metadata": {},
   "outputs": [
    {
     "name": "stdout",
     "output_type": "stream",
     "text": [
      "gbm prediction progress: |████████████████████████████████████████████████| 100%\n"
     ]
    },
    {
     "data": {
      "text/html": [
       "<table>\n",
       "<thead>\n",
       "<tr><th>predict  </th><th style=\"text-align: right;\">   death</th><th style=\"text-align: right;\">  nodeath</th></tr>\n",
       "</thead>\n",
       "<tbody>\n",
       "<tr><td>nodeath  </td><td style=\"text-align: right;\">0.645107</td><td style=\"text-align: right;\"> 0.354893</td></tr>\n",
       "<tr><td>nodeath  </td><td style=\"text-align: right;\">0.490618</td><td style=\"text-align: right;\"> 0.509382</td></tr>\n",
       "<tr><td>nodeath  </td><td style=\"text-align: right;\">0.582849</td><td style=\"text-align: right;\"> 0.417151</td></tr>\n",
       "<tr><td>nodeath  </td><td style=\"text-align: right;\">0.582849</td><td style=\"text-align: right;\"> 0.417151</td></tr>\n",
       "<tr><td>nodeath  </td><td style=\"text-align: right;\">0.582849</td><td style=\"text-align: right;\"> 0.417151</td></tr>\n",
       "<tr><td>nodeath  </td><td style=\"text-align: right;\">0.582849</td><td style=\"text-align: right;\"> 0.417151</td></tr>\n",
       "<tr><td>nodeath  </td><td style=\"text-align: right;\">0.493593</td><td style=\"text-align: right;\"> 0.506407</td></tr>\n",
       "<tr><td>nodeath  </td><td style=\"text-align: right;\">0.518266</td><td style=\"text-align: right;\"> 0.481734</td></tr>\n",
       "<tr><td>nodeath  </td><td style=\"text-align: right;\">0.484499</td><td style=\"text-align: right;\"> 0.515501</td></tr>\n",
       "<tr><td>nodeath  </td><td style=\"text-align: right;\">0.408411</td><td style=\"text-align: right;\"> 0.591589</td></tr>\n",
       "</tbody>\n",
       "</table>"
      ]
     },
     "metadata": {},
     "output_type": "display_data"
    }
   ],
   "source": [
    "predictions = outcome_GBM.predict(test)\n",
    "predictions.show()"
   ]
  },
  {
   "cell_type": "code",
   "execution_count": 14,
   "metadata": {},
   "outputs": [
    {
     "data": {
      "image/png": "[encoded data removed]",
      "text/plain": [
       "<matplotlib.figure.Figure at 0x7f026ccb3e10>"
      ]
     },
     "metadata": {},
     "output_type": "display_data"
    }
   ],
   "source": [
    "outcome_GBM.plot(type='roc')\n"
   ]
  },
  {
   "cell_type": "markdown",
   "metadata": {},
   "source": [
    "It looks like I only need about 125-150 trees to reach the optimum.  I'll use this going forward."
   ]
  },
  {
   "cell_type": "markdown",
   "metadata": {},
   "source": [
    "## Perform a grid search on GBM parameters in H2O"
   ]
  },
  {
   "cell_type": "code",
   "execution_count": 15,
   "metadata": {},
   "outputs": [],
   "source": [
    "ntrees_opt = [50,100,150,200]\n",
    "max_depth_opt = [3,5,7]\n",
    "learn_rate_opt = [0.1,0.2]\n",
    "\n",
    "hyper_params = {'ntrees': ntrees_opt, \n",
    "                'max_depth': max_depth_opt,\n",
    "                'learn_rate': learn_rate_opt}"
   ]
  },
  {
   "cell_type": "code",
   "execution_count": 17,
   "metadata": {},
   "outputs": [
    {
     "name": "stdout",
     "output_type": "stream",
     "text": [
      "gbm Grid Build progress: |████████████████████████████████████████████████| 100%\n"
     ]
    }
   ],
   "source": [
    "from h2o.grid.grid_search import H2OGridSearch\n",
    "gs = H2OGridSearch(H2OGradientBoostingEstimator, hyper_params = hyper_params)\n",
    "\n",
    "gs.train(x=['drugname', 'indi_pt', 'age', 'sex', 'wt'],y='outcome', training_frame=train, validation_frame=test)"
   ]
  },
  {
   "cell_type": "code",
   "execution_count": 31,
   "metadata": {},
   "outputs": [
    {
     "name": "stdout",
     "output_type": "stream",
     "text": [
      "     learn_rate max_depth ntrees  \\\n",
      "0           0.2         7    100   \n",
      "1           0.2         7    200   \n",
      "2           0.2         5    200   \n",
      "3           0.1         7    200   \n",
      "4           0.2         5    100   \n",
      "5           0.1         7    100   \n",
      "6           0.1         5    200   \n",
      "7           0.2         3    200   \n",
      "8           0.1         5    100   \n",
      "9           0.2         7     20   \n",
      "10          0.1         3    200   \n",
      "11          0.2         3    100   \n",
      "12          0.2         2    200   \n",
      "13          0.2         5     20   \n",
      "14          0.2         2    100   \n",
      "15          0.1         3    100   \n",
      "16          0.1         2    200   \n",
      "17          0.1         7     20   \n",
      "18          0.1         5     20   \n",
      "19          0.1         2    100   \n",
      "20          0.2         3     20   \n",
      "21          0.2         2     20   \n",
      "22          0.1         3     20   \n",
      "23          0.1         2     20   \n",
      "\n",
      "                                                        model_ids  \\\n",
      "0   Grid_GBM_py_8_sid_9db9_model_python_1520604189007_30_model_15   \n",
      "1   Grid_GBM_py_8_sid_9db9_model_python_1520604189007_30_model_23   \n",
      "2   Grid_GBM_py_8_sid_9db9_model_python_1520604189007_30_model_21   \n",
      "3   Grid_GBM_py_8_sid_9db9_model_python_1520604189007_30_model_22   \n",
      "4   Grid_GBM_py_8_sid_9db9_model_python_1520604189007_30_model_13   \n",
      "5   Grid_GBM_py_8_sid_9db9_model_python_1520604189007_30_model_14   \n",
      "6   Grid_GBM_py_8_sid_9db9_model_python_1520604189007_30_model_20   \n",
      "7   Grid_GBM_py_8_sid_9db9_model_python_1520604189007_30_model_19   \n",
      "8   Grid_GBM_py_8_sid_9db9_model_python_1520604189007_30_model_12   \n",
      "9    Grid_GBM_py_8_sid_9db9_model_python_1520604189007_30_model_7   \n",
      "10  Grid_GBM_py_8_sid_9db9_model_python_1520604189007_30_model_18   \n",
      "11  Grid_GBM_py_8_sid_9db9_model_python_1520604189007_30_model_11   \n",
      "12  Grid_GBM_py_8_sid_9db9_model_python_1520604189007_30_model_17   \n",
      "13   Grid_GBM_py_8_sid_9db9_model_python_1520604189007_30_model_5   \n",
      "14   Grid_GBM_py_8_sid_9db9_model_python_1520604189007_30_model_9   \n",
      "15  Grid_GBM_py_8_sid_9db9_model_python_1520604189007_30_model_10   \n",
      "16  Grid_GBM_py_8_sid_9db9_model_python_1520604189007_30_model_16   \n",
      "17   Grid_GBM_py_8_sid_9db9_model_python_1520604189007_30_model_6   \n",
      "18   Grid_GBM_py_8_sid_9db9_model_python_1520604189007_30_model_4   \n",
      "19   Grid_GBM_py_8_sid_9db9_model_python_1520604189007_30_model_8   \n",
      "20   Grid_GBM_py_8_sid_9db9_model_python_1520604189007_30_model_3   \n",
      "21   Grid_GBM_py_8_sid_9db9_model_python_1520604189007_30_model_1   \n",
      "22   Grid_GBM_py_8_sid_9db9_model_python_1520604189007_30_model_2   \n",
      "23   Grid_GBM_py_8_sid_9db9_model_python_1520604189007_30_model_0   \n",
      "\n",
      "                logloss  \n",
      "0   0.17611902485021233  \n",
      "1   0.17611902485021233  \n",
      "2   0.19160166811496515  \n",
      "3   0.19627394956325728  \n",
      "4   0.19987669607723846  \n",
      "5    0.2088705416399988  \n",
      "6   0.20889680092146373  \n",
      "7   0.22576702306892937  \n",
      "8   0.23750827112619433  \n",
      "9    0.2462277212991448  \n",
      "10   0.2514539391985646  \n",
      "11  0.25173737981253597  \n",
      "12  0.25631002440101264  \n",
      "13   0.2643809032431742  \n",
      "14  0.26777870900879697  \n",
      "15  0.26960449104330697  \n",
      "16  0.26996377330376586  \n",
      "17    0.271030509302638  \n",
      "18   0.2802284536382831  \n",
      "19  0.28068746343953066  \n",
      "20  0.28452496094715307  \n",
      "21  0.28890635556921385  \n",
      "22   0.2927331388574848  \n",
      "23  0.29641591537409595  \n"
     ]
    },
    {
     "data": {
      "text/plain": [
       "['F0point5',\n",
       " 'F1',\n",
       " 'F2',\n",
       " '__class__',\n",
       " '__delattr__',\n",
       " '__dict__',\n",
       " '__dir__',\n",
       " '__doc__',\n",
       " '__eq__',\n",
       " '__format__',\n",
       " '__ge__',\n",
       " '__getattr__',\n",
       " '__getattribute__',\n",
       " '__getitem__',\n",
       " '__gt__',\n",
       " '__hash__',\n",
       " '__init__',\n",
       " '__init_subclass__',\n",
       " '__iter__',\n",
       " '__le__',\n",
       " '__len__',\n",
       " '__lt__',\n",
       " '__module__',\n",
       " '__ne__',\n",
       " '__new__',\n",
       " '__reduce__',\n",
       " '__reduce_ex__',\n",
       " '__repr__',\n",
       " '__setattr__',\n",
       " '__sizeof__',\n",
       " '__str__',\n",
       " '__subclasshook__',\n",
       " '__weakref__',\n",
       " '_bc',\n",
       " '_bcin',\n",
       " '_future',\n",
       " '_grid_json',\n",
       " '_id',\n",
       " '_job',\n",
       " '_metrics_class',\n",
       " '_model_build',\n",
       " '_parms',\n",
       " '_resolve_grid',\n",
       " 'accuracy',\n",
       " 'aic',\n",
       " 'auc',\n",
       " 'biases',\n",
       " 'build_model',\n",
       " 'catoffsets',\n",
       " 'coef',\n",
       " 'coef_norm',\n",
       " 'confusion_matrix',\n",
       " 'deepfeatures',\n",
       " 'error',\n",
       " 'failed_params',\n",
       " 'failed_raw_params',\n",
       " 'failure_details',\n",
       " 'failure_stack_traces',\n",
       " 'fallout',\n",
       " 'find_idx_by_threshold',\n",
       " 'find_threshold_by_max_metric',\n",
       " 'fnr',\n",
       " 'fpr',\n",
       " 'get_grid',\n",
       " 'get_hyperparams',\n",
       " 'get_hyperparams_dict',\n",
       " 'get_xval_models',\n",
       " 'gini',\n",
       " 'grid_id',\n",
       " 'hyper_names',\n",
       " 'hyper_params',\n",
       " 'is_cross_validated',\n",
       " 'join',\n",
       " 'logloss',\n",
       " 'max_per_class_error',\n",
       " 'mcc',\n",
       " 'mean_per_class_error',\n",
       " 'mean_residual_deviance',\n",
       " 'metric',\n",
       " 'missrate',\n",
       " 'model',\n",
       " 'model_ids',\n",
       " 'model_performance',\n",
       " 'models',\n",
       " 'mse',\n",
       " 'normmul',\n",
       " 'normsub',\n",
       " 'null_degrees_of_freedom',\n",
       " 'null_deviance',\n",
       " 'parms',\n",
       " 'pprint_coef',\n",
       " 'precision',\n",
       " 'predict',\n",
       " 'r2',\n",
       " 'recall',\n",
       " 'residual_degrees_of_freedom',\n",
       " 'residual_deviance',\n",
       " 'respmul',\n",
       " 'respsub',\n",
       " 'roc',\n",
       " 'scoring_history',\n",
       " 'search_criteria',\n",
       " 'sensitivity',\n",
       " 'show',\n",
       " 'sort_by',\n",
       " 'sorted_metric_table',\n",
       " 'specificity',\n",
       " 'start',\n",
       " 'summary',\n",
       " 'tnr',\n",
       " 'tpr',\n",
       " 'train',\n",
       " 'varimp',\n",
       " 'weights',\n",
       " 'xval_keys',\n",
       " 'xvals']"
      ]
     },
     "execution_count": 31,
     "metadata": {},
     "output_type": "execute_result"
    }
   ],
   "source": [
    "gs.show()\n",
    "dir(gs)"
   ]
  },
  {
   "cell_type": "code",
   "execution_count": 32,
   "metadata": {},
   "outputs": [
    {
     "name": "stdout",
     "output_type": "stream",
     "text": [
      "[WARNING] in <ipython-input-32-544460e69fac> line 1:\n",
      "    >>> auc_table = gs.sort_by('auc(valid=True)',increasing=False)\n",
      "        ^^^^ grid.sort_by() is deprecated; use grid.get_grid() instead\n",
      "Grid Search Results for H2OGradientBoostingEstimator: \n"
     ]
    },
    {
     "data": {
      "text/html": [
       "<div style=\"overflow:auto\"><table style=\"width:50%\"><tr><td><b>Model Id</b></td>\n",
       "<td><b>Hyperparameters: [ntrees, max_depth, learn_rate]</b></td>\n",
       "<td><b>auc(valid=True)</b></td></tr>\n",
       "<tr><td>Grid_GBM_py_8_sid_9db9_model_python_1520604189007_30_model_23</td>\n",
       "<td>[200, 7, 0.2]</td>\n",
       "<td>0.8927403</td></tr>\n",
       "<tr><td>Grid_GBM_py_8_sid_9db9_model_python_1520604189007_30_model_15</td>\n",
       "<td>[100, 7, 0.2]</td>\n",
       "<td>0.8927403</td></tr>\n",
       "<tr><td>Grid_GBM_py_8_sid_9db9_model_python_1520604189007_30_model_21</td>\n",
       "<td>[200, 5, 0.2]</td>\n",
       "<td>0.8905868</td></tr>\n",
       "<tr><td>Grid_GBM_py_8_sid_9db9_model_python_1520604189007_30_model_22</td>\n",
       "<td>[200, 7, 0.1]</td>\n",
       "<td>0.8862296</td></tr>\n",
       "<tr><td>Grid_GBM_py_8_sid_9db9_model_python_1520604189007_30_model_13</td>\n",
       "<td>[100, 5, 0.2]</td>\n",
       "<td>0.8827934</td></tr>\n",
       "<tr><td>---</td>\n",
       "<td>---</td>\n",
       "<td>---</td></tr>\n",
       "<tr><td>Grid_GBM_py_8_sid_9db9_model_python_1520604189007_30_model_8</td>\n",
       "<td>[100, 2, 0.1]</td>\n",
       "<td>0.7089111</td></tr>\n",
       "<tr><td>Grid_GBM_py_8_sid_9db9_model_python_1520604189007_30_model_3</td>\n",
       "<td>[20, 3, 0.2]</td>\n",
       "<td>0.6875232</td></tr>\n",
       "<tr><td>Grid_GBM_py_8_sid_9db9_model_python_1520604189007_30_model_1</td>\n",
       "<td>[20, 2, 0.2]</td>\n",
       "<td>0.6678814</td></tr>\n",
       "<tr><td>Grid_GBM_py_8_sid_9db9_model_python_1520604189007_30_model_2</td>\n",
       "<td>[20, 3, 0.1]</td>\n",
       "<td>0.6450278</td></tr>\n",
       "<tr><td>Grid_GBM_py_8_sid_9db9_model_python_1520604189007_30_model_0</td>\n",
       "<td>[20, 2, 0.1]</td>\n",
       "<td>0.6231595</td></tr></table></div>"
      ],
      "text/plain": [
       "Model Id                                                       Hyperparameters: [ntrees, max_depth, learn_rate]    auc(valid=True)\n",
       "-------------------------------------------------------------  --------------------------------------------------  ------------------\n",
       "Grid_GBM_py_8_sid_9db9_model_python_1520604189007_30_model_23  [200, 7, 0.2]                                       0.8927403324848552\n",
       "Grid_GBM_py_8_sid_9db9_model_python_1520604189007_30_model_15  [100, 7, 0.2]                                       0.8927403324848552\n",
       "Grid_GBM_py_8_sid_9db9_model_python_1520604189007_30_model_21  [200, 5, 0.2]                                       0.8905867614019671\n",
       "Grid_GBM_py_8_sid_9db9_model_python_1520604189007_30_model_22  [200, 7, 0.1]                                       0.8862296285038808\n",
       "Grid_GBM_py_8_sid_9db9_model_python_1520604189007_30_model_13  [100, 5, 0.2]                                       0.8827933603980554\n",
       "---                                                            ---                                                 ---\n",
       "Grid_GBM_py_8_sid_9db9_model_python_1520604189007_30_model_8   [100, 2, 0.1]                                       0.7089110758417739\n",
       "Grid_GBM_py_8_sid_9db9_model_python_1520604189007_30_model_3   [20, 3, 0.2]                                        0.6875232064869538\n",
       "Grid_GBM_py_8_sid_9db9_model_python_1520604189007_30_model_1   [20, 2, 0.2]                                        0.6678814141434058\n",
       "Grid_GBM_py_8_sid_9db9_model_python_1520604189007_30_model_2   [20, 3, 0.1]                                        0.6450277727999706\n",
       "Grid_GBM_py_8_sid_9db9_model_python_1520604189007_30_model_0   [20, 2, 0.1]                                        0.6231595451245905"
      ]
     },
     "metadata": {},
     "output_type": "display_data"
    },
    {
     "name": "stdout",
     "output_type": "stream",
     "text": [
      "\n",
      "See the whole table with table.as_data_frame()\n",
      "\n"
     ]
    }
   ],
   "source": [
    "auc_table = gs.sort_by('auc(valid=True)',increasing=False)\n",
    "print(auc_table)"
   ]
  },
  {
   "cell_type": "code",
   "execution_count": 33,
   "metadata": {},
   "outputs": [
    {
     "data": {
      "text/plain": [
       "0.9878142506182941"
      ]
     },
     "execution_count": 33,
     "metadata": {},
     "output_type": "execute_result"
    }
   ],
   "source": [
    "best_model = h2o.get_model(auc_table['Model Id'][0])\n",
    "best_model.auc()"
   ]
  },
  {
   "cell_type": "code",
   "execution_count": 34,
   "metadata": {},
   "outputs": [
    {
     "data": {
      "text/plain": [
       "0.8927403324848552"
      ]
     },
     "execution_count": 34,
     "metadata": {},
     "output_type": "execute_result"
    }
   ],
   "source": [
    "best_perf = best_model.model_performance(test)\n",
    "best_perf.auc()"
   ]
  },
  {
   "cell_type": "markdown",
   "metadata": {},
   "source": [
    "# TO BE CONTINUED..."
   ]
  },
  {
   "cell_type": "markdown",
   "metadata": {},
   "source": [
    "# Next Steps:"
   ]
  },
  {
   "cell_type": "markdown",
   "metadata": {},
   "source": [
    "This project is a work in progress.  Now that I have a classifier that can take some very basic patient information and drug information, and return the likelihood that the prescribed medication will cause the patient to die, I can start to build recommendations for alternative medications that may be as effective, less deadly and perhaps even cheaper.  Stay tuned!"
   ]
  },
  {
   "cell_type": "markdown",
   "metadata": {},
   "source": [
    "# Everything below this line is stuff that wasn't working but that I'd like to come back to\n",
    "______________________________________________________________________________________________________________"
   ]
  },
  {
   "cell_type": "markdown",
   "metadata": {},
   "source": [
    "## Ok, let's try to make a classifier that can tell the likelihood of a drug causing death"
   ]
  },
  {
   "cell_type": "markdown",
   "metadata": {},
   "source": [
    "## We'll start by turning our categorical variables into one-hot (not working because it was taking too long with the dataset and killing my memory so I switched to H2O)"
   ]
  },
  {
   "cell_type": "code",
   "execution_count": 14,
   "metadata": {},
   "outputs": [
    {
     "name": "stdout",
     "output_type": "stream",
     "text": [
      "122773\n",
      "492804\n",
      "4.0139444340368\n",
      "['CENTRUM [VIT C,BETACAROT,D3,B9,MIN NOS,RETINOL,VIT E,VIT B NOS]'\n",
      " 'HYDROCODONE /ASPIRIN' 'Xanor' ..., 'LEVETIRACETAM TEVA'\n",
      " 'Esmolol Hydrochloride Injection' 'SUNBLOCK SPF25']\n",
      "        role_cod                                           drugname  \\\n",
      "20             C  CENTRUM [VIT C,BETACAROT,D3,B9,MIN NOS,RETINOL...   \n",
      "61             C                               HYDROCODONE /ASPIRIN   \n",
      "71            PS                                              Xanor   \n",
      "76             C                                             ZELDOX   \n",
      "77             C                                   NITRAZEPAM RECIP   \n",
      "83             C                                        FLUMAZENIL.   \n",
      "129           PS                                            Zarator   \n",
      "130           SS                                            Zarator   \n",
      "133            C                              INSULATARD /00646002/   \n",
      "134            C                                 CORODIL /00042901/   \n",
      "152            C                          IMIPRAMINE HYDROCHLORIDE.   \n",
      "178           PS           RIOCIGUAT (GUANYLATE CYCLASE STIMULATOR)   \n",
      "179           SS           RIOCIGUAT (GUANYLATE CYCLASE STIMULATOR)   \n",
      "180           SS           RIOCIGUAT (GUANYLATE CYCLASE STIMULATOR)   \n",
      "181           SS           RIOCIGUAT (GUANYLATE CYCLASE STIMULATOR)   \n",
      "182           SS           RIOCIGUAT (GUANYLATE CYCLASE STIMULATOR)   \n",
      "183           SS           RIOCIGUAT (GUANYLATE CYCLASE STIMULATOR)   \n",
      "184           SS           RIOCIGUAT (GUANYLATE CYCLASE STIMULATOR)   \n",
      "185           SS           RIOCIGUAT (GUANYLATE CYCLASE STIMULATOR)   \n",
      "186           SS           RIOCIGUAT (GUANYLATE CYCLASE STIMULATOR)   \n",
      "187           SS           RIOCIGUAT (GUANYLATE CYCLASE STIMULATOR)   \n",
      "188           SS           RIOCIGUAT (GUANYLATE CYCLASE STIMULATOR)   \n",
      "189           SS           RIOCIGUAT (GUANYLATE CYCLASE STIMULATOR)   \n",
      "190           SS           RIOCIGUAT (GUANYLATE CYCLASE STIMULATOR)   \n",
      "191           SS           RIOCIGUAT (GUANYLATE CYCLASE STIMULATOR)   \n",
      "192           SS           RIOCIGUAT (GUANYLATE CYCLASE STIMULATOR)   \n",
      "193           SS           RIOCIGUAT (GUANYLATE CYCLASE STIMULATOR)   \n",
      "194           SS           RIOCIGUAT (GUANYLATE CYCLASE STIMULATOR)   \n",
      "195           SS           RIOCIGUAT (GUANYLATE CYCLASE STIMULATOR)   \n",
      "196           SS           RIOCIGUAT (GUANYLATE CYCLASE STIMULATOR)   \n",
      "...          ...                                                ...   \n",
      "5464066        C                                            LORZONE   \n",
      "5464088        C                                   OMEGA 3 FISH OIL   \n",
      "5464102        C                                       Potassium cl   \n",
      "5464108        C                                     Pyridostigmine   \n",
      "5464119        C                                           ADIPEX-P   \n",
      "5464127        C                                           ADIPEX-P   \n",
      "5464131        C                                    CONVIVAL CHRONO   \n",
      "5464132        C                                 LEVETIRACETAM TEVA   \n",
      "5464133       PS                                            Jaydess   \n",
      "5464136       PS                    Esmolol Hydrochloride Injection   \n",
      "5464137       SS                    Esmolol Hydrochloride Injection   \n",
      "5464145        C                                      NITROPRUSSIDE   \n",
      "5464164       SS                                         SPIRAMYCIN   \n",
      "5464165        C                                        ACAMPROSATE   \n",
      "5464174        C                                      COLESTYRAMINE   \n",
      "5464204        C                        POLYSACCHARIDE IRON COMPLEX   \n",
      "5464272        C                                           FLUXETIN   \n",
      "5464287        C                               ALBUTEROL /00139501/   \n",
      "5464293       PS                    AFRIN NO DRIP SEVERE CONGESTION   \n",
      "5464298       SS                                          Eupressyl   \n",
      "5464334       PS                         BENDAMUSTINE hydrochloride   \n",
      "5464351       PS                                      JUNEL FE 1/20   \n",
      "5464406       PS                                 Losartan (Unknown)   \n",
      "5464466        C                               CONJUGATED ESTROGENS   \n",
      "5464467        C                                 DAILY MULTIVITAMIN   \n",
      "5464470        C                                     SUNBLOCK SPF25   \n",
      "5464497        C                            Glucosamine/Chondroitin   \n",
      "5464498        C                                        Chondroitin   \n",
      "5464505        C                             Nystatin-Triamcinolone   \n",
      "5464514        C                                         Cinacalcet   \n",
      "\n",
      "                                     indi_pt      age sex      wt  \\\n",
      "20                                       NaN  42.0000   F     NaN   \n",
      "61                                      Pain  57.0000   M   90.70   \n",
      "71                                       NaN  48.0000   M     NaN   \n",
      "76                                       NaN  48.0000   M     NaN   \n",
      "77                                       NaN  48.0000   M     NaN   \n",
      "83                                       NaN  48.0000   M     NaN   \n",
      "129                    Myocardial infarction  58.0000   M     NaN   \n",
      "130              Blood cholesterol increased  58.0000   M     NaN   \n",
      "133                        Diabetes mellitus  58.0000   M     NaN   \n",
      "134                             Hypertension  58.0000   M     NaN   \n",
      "152                                      NaN  62.0000   M     NaN   \n",
      "178          Pulmonary arterial hypertension  59.0000   M   61.00   \n",
      "179          Pulmonary arterial hypertension  59.0000   M   61.00   \n",
      "180          Pulmonary arterial hypertension  59.0000   M   61.00   \n",
      "181          Pulmonary arterial hypertension  59.0000   M   61.00   \n",
      "182          Pulmonary arterial hypertension  59.0000   M   61.00   \n",
      "183          Pulmonary arterial hypertension  59.0000   M   61.00   \n",
      "184          Pulmonary arterial hypertension  59.0000   M   61.00   \n",
      "185          Pulmonary arterial hypertension  59.0000   M   61.00   \n",
      "186          Pulmonary arterial hypertension  59.0000   M   61.00   \n",
      "187          Pulmonary arterial hypertension  59.0000   M   61.00   \n",
      "188          Pulmonary arterial hypertension  59.0000   M   61.00   \n",
      "189          Pulmonary arterial hypertension  59.0000   M   61.00   \n",
      "190          Pulmonary arterial hypertension  59.0000   M   61.00   \n",
      "191          Pulmonary arterial hypertension  59.0000   M   61.00   \n",
      "192          Pulmonary arterial hypertension  59.0000   M   61.00   \n",
      "193          Pulmonary arterial hypertension  59.0000   M   61.00   \n",
      "194          Pulmonary arterial hypertension  59.0000   M   61.00   \n",
      "195          Pulmonary arterial hypertension  59.0000   M   61.00   \n",
      "196          Pulmonary arterial hypertension  59.0000   M   61.00   \n",
      "...                                      ...      ...  ..     ...   \n",
      "5464066  Product used for unknown indication      NaN   F     NaN   \n",
      "5464088                                  NaN  60.2026   F     NaN   \n",
      "5464102  Product used for unknown indication  57.9220   F  103.40   \n",
      "5464108  Product used for unknown indication  57.9220   F  103.40   \n",
      "5464119                                  NaN  32.0000   F     NaN   \n",
      "5464127                                  NaN  32.0000   F     NaN   \n",
      "5464131  Product used for unknown indication      NaN   M     NaN   \n",
      "5464132  Product used for unknown indication      NaN   M     NaN   \n",
      "5464133                                  NaN  23.0000   F     NaN   \n",
      "5464136  Product used for unknown indication  30.0000   M     NaN   \n",
      "5464137                                  NaN  30.0000   M     NaN   \n",
      "5464145  Product used for unknown indication  30.0000   M     NaN   \n",
      "5464164  Product used for unknown indication  46.0000   M     NaN   \n",
      "5464165  Product used for unknown indication  46.0000   M     NaN   \n",
      "5464174                                  NaN  73.0000   M     NaN   \n",
      "5464204  Product used for unknown indication      NaN   M     NaN   \n",
      "5464272  Product used for unknown indication      NaN   M     NaN   \n",
      "5464287                               Asthma  46.0000   F     NaN   \n",
      "5464293                     Nasal congestion  81.0000   M   68.93   \n",
      "5464298  Product used for unknown indication  82.0000   F     NaN   \n",
      "5464334        Chronic lymphocytic leukaemia  58.0000   F     NaN   \n",
      "5464351                                  NaN      NaN   F   68.55   \n",
      "5464406  Product used for unknown indication      NaN   F     NaN   \n",
      "5464466                                  NaN  19.7650   F   53.20   \n",
      "5464467              Vitamin supplementation  19.7650   F   53.20   \n",
      "5464470                              Sunburn  19.7650   F   53.20   \n",
      "5464497  Product used for unknown indication  75.9800   F     NaN   \n",
      "5464498  Product used for unknown indication  75.9800   F     NaN   \n",
      "5464505  Product used for unknown indication  75.9800   F     NaN   \n",
      "5464514  Product used for unknown indication      NaN   F   47.20   \n",
      "\n",
      "                                                        pt  \n",
      "20       Headache | Injury | Intracranial pressure incr...  \n",
      "61       Anxiety | Back pain | Drug withdrawal syndrome...  \n",
      "71       Depressed level of consciousness | Toxicity to...  \n",
      "76       Depressed level of consciousness | Toxicity to...  \n",
      "77       Depressed level of consciousness | Toxicity to...  \n",
      "83       Depressed level of consciousness | Toxicity to...  \n",
      "129                   Gait disturbance | Pain in extremity  \n",
      "130                   Gait disturbance | Pain in extremity  \n",
      "133                   Gait disturbance | Pain in extremity  \n",
      "134                   Gait disturbance | Pain in extremity  \n",
      "152       Gastrointestinal haemorrhage | Multiple injuries  \n",
      "178                                        Cardiac failure  \n",
      "179                                        Cardiac failure  \n",
      "180                                        Cardiac failure  \n",
      "181                                        Cardiac failure  \n",
      "182                                        Cardiac failure  \n",
      "183                                        Cardiac failure  \n",
      "184                                        Cardiac failure  \n",
      "185                                        Cardiac failure  \n",
      "186                                        Cardiac failure  \n",
      "187                                        Cardiac failure  \n",
      "188                                        Cardiac failure  \n",
      "189                                        Cardiac failure  \n",
      "190                                        Cardiac failure  \n",
      "191                                        Cardiac failure  \n",
      "192                                        Cardiac failure  \n",
      "193                                        Cardiac failure  \n",
      "194                                        Cardiac failure  \n",
      "195                                        Cardiac failure  \n",
      "196                                        Cardiac failure  \n",
      "...                                                    ...  \n",
      "5464066                                            Seizure  \n",
      "5464088  Dyspnoea | Extra dose administered | Incorrect...  \n",
      "5464102  Abasia | Abdominal pain upper | Arthritis | De...  \n",
      "5464108  Abasia | Abdominal pain upper | Arthritis | De...  \n",
      "5464119  Abdominal distension | Abdominal pain | Anxiet...  \n",
      "5464127  Abdominal distension | Abdominal pain | Anxiet...  \n",
      "5464131  Seizure | Transaminases decreased | Transamina...  \n",
      "5464132  Seizure | Transaminases decreased | Transamina...  \n",
      "5464133  Drug ineffective | Ectopic pregnancy with cont...  \n",
      "5464136  Abdominal distension | Acute kidney injury | B...  \n",
      "5464137  Abdominal distension | Acute kidney injury | B...  \n",
      "5464145  Abdominal distension | Acute kidney injury | B...  \n",
      "5464164  Acinetobacter infection | Acute respiratory di...  \n",
      "5464165  Acinetobacter infection | Acute respiratory di...  \n",
      "5464174  Cerebrovascular accident | Memory impairment |...  \n",
      "5464204                 Lower gastrointestinal haemorrhage  \n",
      "5464272  Alanine aminotransferase increased | Aspartate...  \n",
      "5464287           Condition aggravated | Thyrotoxic crisis  \n",
      "5464293  Drug effect incomplete | Gastrectomy | Product...  \n",
      "5464298                      Confusional state | Underdose  \n",
      "5464334  Autoimmune haemolytic anaemia | Drug effect in...  \n",
      "5464351                                Skin discolouration  \n",
      "5464406  Acute kidney injury | Blood creatinine increas...  \n",
      "5464466                   Arthralgia | Myalgia | Skin mass  \n",
      "5464467                   Arthralgia | Myalgia | Skin mass  \n",
      "5464470                   Arthralgia | Myalgia | Skin mass  \n",
      "5464497  Constipation | Dysuria | Fatigue | Nausea | Or...  \n",
      "5464498  Constipation | Dysuria | Fatigue | Nausea | Or...  \n",
      "5464505  Constipation | Dysuria | Fatigue | Nausea | Or...  \n",
      "5464514                             Diabetic foot | Sepsis  \n",
      "\n",
      "[492804 rows x 7 columns]\n"
     ]
    },
    {
     "data": {
      "text/plain": [
       "\"\\nprint(dfBetterOutcome.keys())\\ndfBetterOutcome.drop(columns=['primaryid', 'caseid','outc_cod_definition','drug_seq','drug_seq'],inplace=True)\\nprint(dfBetterOutcome.keys())\\n\\n#transpose the dataframe and get the inner dict from to_dict()\\nfeatsBetterOutcome =dfBetterOutcome.T.to_dict().values()\\nfeatsWorseOutcome =dfWorseOutcome.T.to_dict().values()\\n\\nDvec = DictVectorizer()\\n#featsBettervectorized=Dvec.fit_transform(featsBetterOutcome)\\n#featsWorsevectorized=Dvec.fit_transform(featsWorseOutcome)\\n\\nfeatsBetterOutcome.shape\\nfeatsWorseOutcome\\n\""
      ]
     },
     "execution_count": 14,
     "metadata": {},
     "output_type": "execute_result"
    }
   ],
   "source": [
    "from sklearn.feature_extraction import DictVectorizer\n",
    "\n",
    "\n",
    "dfBetterOutcome.drop(columns=['primaryid', 'caseid','outc_cod_definition','drug_seq','drug_seq'],inplace=True)\n",
    "dfWorseOutcome.drop(columns=['primaryid', 'caseid','outc_cod_definition','drug_seq','drug_seq'],inplace=True)\n",
    "\n",
    "print(dfBetterOutcome.keys())\n",
    "\n",
    "#transpose the dataframe and get the inner dict from to_dict()\n",
    "featsBetterOutcome =dfBetterOutcome.T.to_dict().values()\n",
    "featsWorseOutcome =dfWorseOutcome.T.to_dict().values()\n",
    "\n",
    "Dvec = DictVectorizer()\n",
    "featsBettervectorized=Dvec.fit_transform(featsBetterOutcome)\n",
    "featsWorsevectorized=Dvec.fit_transform(featsWorseOutcome)\n",
    "\n",
    "featsBetterOutcome.shape\n",
    "featsWorseOutcome\n",
    "\n"
   ]
  },
  {
   "cell_type": "code",
   "execution_count": null,
   "metadata": {},
   "outputs": [],
   "source": [
    "mergedEventsSpend = pd.merge(dfAdvEvents,dfMedSpend, left_on='drugname',right_on=['generic_name'])\n",
    "mergedEventsSpend\n",
    "#print(mergedEventsSpend['outc_cod_definition'])\n",
    "print(mergedEventsSpend.shape)\n",
    "print(len(dfAdvEvents[drugsincommon]))"
   ]
  }
 ],
 "metadata": {
  "kernelspec": {
   "display_name": "Python 3",
   "language": "python",
   "name": "python3"
  },
  "language_info": {
   "codemirror_mode": {
    "name": "ipython",
    "version": 3
   },
   "file_extension": ".py",
   "mimetype": "text/x-python",
   "name": "python",
   "nbconvert_exporter": "python",
   "pygments_lexer": "ipython3",
   "version": "3.6.2"
  }
 },
 "nbformat": 4,
 "nbformat_minor": 2
}
